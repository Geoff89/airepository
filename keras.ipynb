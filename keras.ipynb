{
 "cells": [
  {
   "cell_type": "code",
   "execution_count": 1,
   "metadata": {},
   "outputs": [
    {
     "name": "stderr",
     "output_type": "stream",
     "text": [
      "Using TensorFlow backend.\n"
     ]
    },
    {
     "name": "stdout",
     "output_type": "stream",
     "text": [
      "Epoch 1/10\n",
      "100/100 [==============================] - 9s 92ms/step - loss: 2.4176\n",
      "Epoch 2/10\n",
      "100/100 [==============================] - 9s 85ms/step - loss: 2.3456\n",
      "Epoch 3/10\n",
      "100/100 [==============================] - 8s 81ms/step - loss: 2.2772\n",
      "Epoch 4/10\n",
      "100/100 [==============================] - 8s 79ms/step - loss: 2.2806\n",
      "Epoch 5/10\n",
      "100/100 [==============================] - 8s 85ms/step - loss: 2.2708\n",
      "Epoch 6/10\n",
      "100/100 [==============================] - 9s 91ms/step - loss: 2.2630\n",
      "Epoch 7/10\n",
      "100/100 [==============================] - 9s 94ms/step - loss: 2.2817\n",
      "Epoch 8/10\n",
      "100/100 [==============================] - 8s 84ms/step - loss: 2.2842\n",
      "Epoch 9/10\n",
      "100/100 [==============================] - 8s 83ms/step - loss: 2.2712\n",
      "Epoch 10/10\n",
      "100/100 [==============================] - 9s 86ms/step - loss: 2.2613\n",
      "20/20 [==============================] - 1s 33ms/step\n",
      "The score is 2.2596123218536377\n"
     ]
    }
   ],
   "source": [
    "import numpy as np\n",
    "import keras\n",
    "from keras.models import Sequential\n",
    "from keras.layers import Dense, Dropout, Flatten\n",
    "from keras.layers import Conv2D, MaxPooling2D\n",
    "from keras.optimizers import SGD\n",
    "\n",
    "# Generate dummy data\n",
    "x_train = np.random.random((100, 100, 100, 3))\n",
    "y_train = keras.utils.to_categorical(np.random.randint(10, size=(100, 1)), num_classes=10)\n",
    "x_test = np.random.random((20, 100, 100, 3))\n",
    "y_test = keras.utils.to_categorical(np.random.randint(10, size=(20, 1)), num_classes=10)\n",
    "\n",
    "model = Sequential()\n",
    "# input: 100x100 images with 3 channels -> (100, 100, 3) tensors.\n",
    "# this applies 32 convolution filters of size 3x3 each.\n",
    "model.add(Conv2D(32, (3, 3), activation='relu', input_shape=(100, 100, 3)))\n",
    "model.add(Conv2D(32, (3, 3), activation='relu'))\n",
    "model.add(MaxPooling2D(pool_size=(2, 2)))\n",
    "model.add(Dropout(0.25))\n",
    "\n",
    "model.add(Conv2D(64, (3, 3), activation='relu'))\n",
    "model.add(Conv2D(64, (3, 3), activation='relu'))\n",
    "model.add(MaxPooling2D(pool_size=(2, 2)))\n",
    "model.add(Dropout(0.25))\n",
    "\n",
    "model.add(Flatten())\n",
    "model.add(Dense(256, activation='relu'))\n",
    "model.add(Dropout(0.5))\n",
    "model.add(Dense(10, activation='softmax'))\n",
    "\n",
    "sgd = SGD(lr=0.01, decay=1e-6, momentum=0.9, nesterov=True)\n",
    "model.compile(loss='categorical_crossentropy', optimizer=sgd)\n",
    "\n",
    "model.fit(x_train, y_train, batch_size=32, epochs=10)\n",
    "score = model.evaluate(x_test, y_test, batch_size=32)\n",
    "print('The score is %r' %score)"
   ]
  },
  {
   "cell_type": "code",
   "execution_count": 1,
   "metadata": {},
   "outputs": [
    {
     "name": "stderr",
     "output_type": "stream",
     "text": [
      "Using TensorFlow backend.\n"
     ]
    }
   ],
   "source": [
    "import keras\n",
    "import tensorflow as tf"
   ]
  },
  {
   "cell_type": "code",
   "execution_count": 4,
   "metadata": {},
   "outputs": [],
   "source": [
    "from tensorflow.keras.callbacks import EarlyStopping"
   ]
  },
  {
   "cell_type": "code",
   "execution_count": 5,
   "metadata": {},
   "outputs": [
    {
     "name": "stdout",
     "output_type": "stream",
     "text": [
      "Stop training when a monitored quantity has stopped improving.\n",
      "\n",
      "  Arguments:\n",
      "      monitor: quantity to be monitored.\n",
      "      min_delta: minimum change in the monitored quantity\n",
      "          to qualify as an improvement, i.e. an absolute\n",
      "          change of less than min_delta, will count as no\n",
      "          improvement.\n",
      "      patience: number of epochs with no improvement\n",
      "          after which training will be stopped.\n",
      "      verbose: verbosity mode.\n",
      "      mode: one of {auto, min, max}. In `min` mode,\n",
      "          training will stop when the quantity\n",
      "          monitored has stopped decreasing; in `max`\n",
      "          mode it will stop when the quantity\n",
      "          monitored has stopped increasing; in `auto`\n",
      "          mode, the direction is automatically inferred\n",
      "          from the name of the monitored quantity.\n",
      "      baseline: baseline value for the monitored quantity.\n",
      "          Training will stop if the model doesn't show improvement over the\n",
      "          baseline.\n",
      "  \n"
     ]
    }
   ],
   "source": [
    "print(EarlyStopping.__doc__)\n"
   ]
  },
  {
   "cell_type": "code",
   "execution_count": null,
   "metadata": {},
   "outputs": [],
   "source": [
    "tf.keras.callbacks."
   ]
  }
 ],
 "metadata": {
  "kernelspec": {
   "display_name": "python 3.6 (tensorflow)",
   "language": "python",
   "name": "tensorflow"
  },
  "language_info": {
   "codemirror_mode": {
    "name": "ipython",
    "version": 3
   },
   "file_extension": ".py",
   "mimetype": "text/x-python",
   "name": "python",
   "nbconvert_exporter": "python",
   "pygments_lexer": "ipython3",
   "version": "3.6.9"
  }
 },
 "nbformat": 4,
 "nbformat_minor": 2
}
